{
  "nbformat": 4,
  "nbformat_minor": 0,
  "metadata": {
    "colab": {
      "name": "POO.ipynb",
      "provenance": [],
      "collapsed_sections": []
    },
    "kernelspec": {
      "name": "python3",
      "display_name": "Python 3"
    }
  },
  "cells": [
    {
      "cell_type": "markdown",
      "metadata": {
        "id": "Ee-mTZbUI1tA",
        "colab_type": "text"
      },
      "source": [
        "<center>\n",
        "<h1>\n",
        "Object-oriented programming\n",
        "</h1>\n",
        "</center>"
      ]
    },
    {
      "cell_type": "markdown",
      "metadata": {
        "id": "1zsLIfz2KCJz",
        "colab_type": "text"
      },
      "source": [
        "## The Basic OOP Concepts"
      ]
    },
    {
      "cell_type": "markdown",
      "metadata": {
        "id": "gfraP48RLXVj",
        "colab_type": "text"
      },
      "source": [
        "- **Abstraction:** The process of picking out (abstracting) common features of objects and procedures.\n",
        "- **Class:** A category of objects. The class defines all the common properties of the different objects that belong to it.\n",
        "- **Encapsulation:** The process of combining elements to create a new entity. A procedure is a type of encapsulation because it combines a series of computer instructions.\n",
        "- **Information hiding:** The process of hiding details of an object or function. Information hiding is a powerful programming technique because it reduces complexity.\n",
        "- **Inheritance:** a feature that represents the \"is a\" relationship between different classes.\n",
        "- **Interface:** the languages and codes that the applications use to communicate with each other and with the hardware.\n",
        "- **Messaging:** Message passing is a form of communication used in parallel programming and object-oriented programming.\n",
        "- **Object:** a self-contained entity that consists of both data and procedures to manipulate the data.\n",
        "- **Polymorphism:** A programming language's ability to process objects differently depending on their data type or class.\n",
        "- **Procedure:** a section of a program that performs a specific task."
      ]
    },
    {
      "cell_type": "markdown",
      "metadata": {
        "id": "--JMaC7QhY0i",
        "colab_type": "text"
      },
      "source": [
        "### Classes and Objects\n",
        "\n",
        "- **Class:** is an extensible program-code-template for creating objects, providing initial values for state (member variables) and implementations of behavior (member functions or methods).\n",
        "- **Object:** An object can be defined as a data field that has unique attributes and behavior.\n",
        "\n",
        "\n",
        "\n",
        "```\n",
        "class Name():\n",
        "  def __init__(self, name, apellido):\n",
        "    self.first_name = name\n",
        "    self.last_name = apellido\n",
        "    \n",
        "  def printname(self):\n",
        "    print(self.first_name+\" \"+self.last_name)\n",
        "\n",
        "\n",
        "Persona=Name('Daniel','Cuevas')\n",
        "Daniel.printname()\n",
        "Daniel Cuevas\n",
        "\n",
        "```\n",
        "\n",
        "Class = Name\n",
        "\n",
        "Object = Persona"
      ]
    },
    {
      "cell_type": "code",
      "metadata": {
        "id": "T5vtdCIuKaH7",
        "colab_type": "code",
        "outputId": "95af6668-a336-49cc-c2c2-6713e0cd2a0c",
        "colab": {
          "base_uri": "https://localhost:8080/",
          "height": 34
        }
      },
      "source": [
        "class Person(object):\n",
        "    \"\"\"Class to represent persons\"\"\"\n",
        "\n",
        "    def __init__(self, name, last_name, sex):\n",
        "        \"\"\"Constructor de clase Persona\"\"\"\n",
        "        self.name = name\n",
        "        self.last_name = last_name\n",
        "        self.sex = sex\n",
        "\n",
        "    def show_data(self):\n",
        "      print(self.name+\" \"+self.last_name)\n",
        "\n",
        "\n",
        "Daniel=Person('Daniel','Cuevas','M')\n",
        "\n",
        "Daniel.show_data()\n"
      ],
      "execution_count": 0,
      "outputs": [
        {
          "output_type": "stream",
          "text": [
            "Daniel Cuevas\n"
          ],
          "name": "stdout"
        }
      ]
    },
    {
      "cell_type": "markdown",
      "metadata": {
        "id": "S9AtlZgzgv_T",
        "colab_type": "text"
      },
      "source": [
        "### Abstraction\n",
        "The process of picking out (abstracting) common features of objects and procedures.\n",
        "\n",
        "**Example**\n",
        "We will make a brief example of an abstraction on a vehicle.\n",
        "\n",
        "Let's suppose that in this example we are being asked to abstract a vehicle in terms of its behavior.\n",
        "\n",
        "The question I ask is What are the behaviors of all vehicles? Based on this question, our abstraction of a vehicle's behavior automatically flows.\n",
        "\n",
        "- Ignite Vehicle\n",
        "- Vehicle Shutdown\n",
        "- Accelerate Vehicle\n",
        "- Brake Vehicle\n",
        "- Reverse Vehicle\n",
        "- Windscreen Vehicle\n",
        "\n",
        "\n"
      ]
    },
    {
      "cell_type": "code",
      "metadata": {
        "id": "qzEe2UPwFJGq",
        "colab_type": "code",
        "colab": {}
      },
      "source": [
        "class vehicle:\n",
        "  def __init__(self,kind_of_car,model,car_registration):\n",
        "    self.kind=kind_of_car\n",
        "    self.model=model\n",
        "    self.registration=car_registration\n",
        "    self.Move=0\n",
        "    self.turn=False\n",
        "  def Ignite_Vehicle(self):\n",
        "    self.turn=True\n",
        "  def Vehicle_Shutdown(self):\n",
        "    self.turn=False\n",
        "  \n",
        "  def Move_Vehicle(self):\n",
        "    if(self.turn==True):\n",
        "      self.Move=self.Move+1\n",
        "  \n",
        "  def Reverse_Vehicle(self):\n",
        "    if(self.turn==True):\n",
        "      self.Move=self.Move-1\n",
        "\n"
      ],
      "execution_count": 0,
      "outputs": []
    },
    {
      "cell_type": "code",
      "metadata": {
        "id": "LOwUW_f7IVvD",
        "colab_type": "code",
        "colab": {}
      },
      "source": [
        "carro=vehicle(\"susuky\",\"2019\",\"123abc\")"
      ],
      "execution_count": 0,
      "outputs": []
    },
    {
      "cell_type": "code",
      "metadata": {
        "id": "3EFSazXRIfZT",
        "colab_type": "code",
        "outputId": "7bcfe78f-dde5-4bdd-c740-bacce7f87c46",
        "colab": {
          "base_uri": "https://localhost:8080/",
          "height": 34
        }
      },
      "source": [
        "carro.Ignite_Vehicle()\n",
        "carro.Move_Vehicle()\n",
        "carro.Move_Vehicle()\n",
        "carro.Move_Vehicle()\n",
        "carro.Reverse_Vehicle()\n",
        "carro.Move"
      ],
      "execution_count": 0,
      "outputs": [
        {
          "output_type": "execute_result",
          "data": {
            "text/plain": [
              "2"
            ]
          },
          "metadata": {
            "tags": []
          },
          "execution_count": 138
        }
      ]
    },
    {
      "cell_type": "markdown",
      "metadata": {
        "id": "OS0sIQ0bMYdb",
        "colab_type": "text"
      },
      "source": [
        "#### Abstraction Methods\n",
        "Abstract methods are the methods that generally don’t have any implementation, it is left to the sub classes to provide implementation for the abstract methods. Here note that in Python abstract method can have implementation in the abstract class too but the sub class inheriting that abstract class is still forced to override the abstract methods. "
      ]
    },
    {
      "cell_type": "code",
      "metadata": {
        "id": "c0f3bmRBIwyA",
        "colab_type": "code",
        "outputId": "aa764fc2-a21c-4001-c2a6-6a974549df1f",
        "colab": {
          "base_uri": "https://localhost:8080/",
          "height": 121
        }
      },
      "source": [
        "from abc import ABC, abstractmethod\n",
        "\n",
        "class Payment(ABC):\n",
        "    \"\"\"Helper class that provides a standard way to create an ABC using\n",
        "    inheritance.\n",
        "    \"\"\"\n",
        "    def print_slip(self, amount):\n",
        "      print('Purchase of amount- ', amount)\n",
        "\n",
        "    def printhello(self):\n",
        "      print(\"Hello\")\n",
        "    @abstractmethod\n",
        "    def payment(self, amount):\n",
        "      pass\n",
        "\n",
        "\n",
        "class CreditCardPayment(Payment):\n",
        "    def payment(self, amount):\n",
        "        print('Credit card payment of- ', amount)\n",
        "\n",
        "\n",
        "class MobileWalletPayment(Payment):\n",
        "    def payment(self, amount):\n",
        "        print('Mobile wallet payment of- ', amount)\n",
        "\n",
        "obj = CreditCardPayment()\n",
        "obj.payment(100)\n",
        "obj.print_slip(100)\n",
        "print(isinstance(obj, Payment))\n",
        "obj = MobileWalletPayment()\n",
        "obj.payment(200)\n",
        "obj.print_slip(200)\n",
        "print(isinstance(obj, Payment))"
      ],
      "execution_count": 0,
      "outputs": [
        {
          "output_type": "stream",
          "text": [
            "Credit card payment of-  100\n",
            "Purchase of amount-  100\n",
            "True\n",
            "Mobile wallet payment of-  200\n",
            "Purchase of amount-  200\n",
            "True\n"
          ],
          "name": "stdout"
        }
      ]
    },
    {
      "cell_type": "markdown",
      "metadata": {
        "id": "evZMxjPQyHCF",
        "colab_type": "text"
      },
      "source": [
        "\n",
        "\n",
        "### Encapsulation \n"
      ]
    },
    {
      "cell_type": "markdown",
      "metadata": {
        "id": "ePSK0WBo1DfA",
        "colab_type": "text"
      },
      "source": [
        "This  consists in the definition of the access level, in other words the hierarchy that we are going to be giving to each attributes and methods, and also their modification.  "
      ]
    },
    {
      "cell_type": "code",
      "metadata": {
        "id": "_-iBfmsQ07V5",
        "colab_type": "code",
        "outputId": "4d3d4d5c-2f16-43f5-8414-1c13ae3eae7f",
        "colab": {
          "base_uri": "https://localhost:8080/",
          "height": 104
        }
      },
      "source": [
        "class Waiter:\n",
        "  def __init__(self, code, name, age, behave):\n",
        "    self.code = code\n",
        "    self._name = name\n",
        "    self.__age = age\n",
        "    self.behave = behave\n",
        "  \n",
        "  def __Hello(self):\n",
        "    print('Allo-ha my name is '+ self._name+' And I will be with you this Lunch, I am used to be '+ self.behave)\n",
        "\n",
        "waiter1 = Waiter(1, \"Pedro\", 32, 'Nice')\n",
        "print(waiter1.code)\n",
        "print(waiter1._name)\n",
        "print(waiter1._Waiter__age)\n",
        "print(waiter1.behave)\n",
        "\n",
        "\n",
        "waiter1._Waiter__Hello()\n",
        "\n",
        "\n"
      ],
      "execution_count": 0,
      "outputs": [
        {
          "output_type": "stream",
          "text": [
            "1\n",
            "Pedro\n",
            "32\n",
            "Nice\n",
            "Allo-ha my name is Pedro And I will be with you this Lunch, I am used to be Nice\n"
          ],
          "name": "stdout"
        }
      ]
    },
    {
      "cell_type": "markdown",
      "metadata": {
        "id": "nU3vSbleMh4x",
        "colab_type": "text"
      },
      "source": [
        "### Inheritance\n",
        "In object-oriented programing (OOP) inheritance is a feature that represents the \"is a\" relationship between different classes. Inheritance allows a class to have the same behavior as another class and extend or tailor that behavior to provide special action for specific needs.\n",
        "\n"
      ]
    },
    {
      "cell_type": "markdown",
      "metadata": {
        "id": "qlcfT56mS16t",
        "colab_type": "text"
      },
      "source": [
        "#### Simple"
      ]
    },
    {
      "cell_type": "code",
      "metadata": {
        "id": "uzxKcxBR32ep",
        "colab_type": "code",
        "colab": {}
      },
      "source": [
        "class Student(Person):\n",
        "  def __init__(self,carrier,grade,id_, name, last_name, sex):\n",
        "    self.grades=[]\n",
        "    Person.__init__(self, name, last_name, sex)\n",
        "    self.carrier=carrier\n",
        "    self.grade=grade\n",
        "    self.grades.append(self.grade)\n",
        "    self.id_=id_\n",
        "\n",
        "  def change_carrier(self,new_carrier):\n",
        "    self.carrier=new_carrier\n",
        "  \n",
        "  def nw_grade(self,new_grade):\n",
        "    self.grades.append(new_grade)\n",
        "  \n",
        "  def show_history(self):\n",
        "    for idx,score in enumerate(self.grades):\n",
        "      print(\"score \",idx+1,\" is \",score)"
      ],
      "execution_count": 0,
      "outputs": []
    },
    {
      "cell_type": "code",
      "metadata": {
        "id": "7OOtTWB3Mgk4",
        "colab_type": "code",
        "colab": {}
      },
      "source": [
        "Student_1=Student('DATOS','100','1809060','DANIEL','CUEVAS','H')"
      ],
      "execution_count": 0,
      "outputs": []
    },
    {
      "cell_type": "code",
      "metadata": {
        "id": "uE7Eo7jWN9OH",
        "colab_type": "code",
        "outputId": "d6a8d02e-09f9-4502-c6ed-741148104ffa",
        "colab": {
          "base_uri": "https://localhost:8080/",
          "height": 69
        }
      },
      "source": [
        "Student_1.nw_grade(99)\n",
        "Student_1.show_history()\n",
        "Student_1.printname()"
      ],
      "execution_count": 0,
      "outputs": [
        {
          "output_type": "stream",
          "text": [
            "score  1  is  100\n",
            "score  2  is  99\n",
            "DANIEL CUEVAS\n"
          ],
          "name": "stdout"
        }
      ]
    },
    {
      "cell_type": "code",
      "metadata": {
        "id": "sfpE9PZHOCBU",
        "colab_type": "code",
        "outputId": "2bb4cd74-91e3-4005-f3e4-746f4c583660",
        "colab": {
          "base_uri": "https://localhost:8080/",
          "height": 156
        }
      },
      "source": [
        "print(\"Class Student\")\n",
        "for main in Student.__mro__:\n",
        "  print(main)\n",
        "\n",
        "print(\"\\nClass Person\")\n",
        "for main in Person.__mro__:\n",
        "  print(main)"
      ],
      "execution_count": 0,
      "outputs": [
        {
          "output_type": "stream",
          "text": [
            "Class Student\n",
            "<class '__main__.Student'>\n",
            "<class '__main__.Person'>\n",
            "<class 'object'>\n",
            "\n",
            "Class Person\n",
            "<class '__main__.Person'>\n",
            "<class 'object'>\n"
          ],
          "name": "stdout"
        }
      ]
    },
    {
      "cell_type": "markdown",
      "metadata": {
        "id": "0KFwhyeXS_Zf",
        "colab_type": "text"
      },
      "source": [
        "#### Multi"
      ]
    },
    {
      "cell_type": "code",
      "metadata": {
        "id": "iBnoMG74TBWf",
        "colab_type": "code",
        "colab": {}
      },
      "source": [
        "class Chief(Student):\n",
        "  def __init__(self,carrier,grade,id_, name, last_name, sex,check_classrrom,talking_wP):\n",
        "    Student.__init__(self,carrier,grade,id_, name, last_name, sex)\n",
        "    self.check_classrrom=check_classrrom\n",
        "    self.talking_wP=talking_wP\n",
        "\n",
        "  def show_data(self):\n",
        "    print(\"Name: \",self.name+\" \"+self.last_name)\n",
        "    self.show_history()\n",
        "    \n",
        "  def show_task_make(self):\n",
        "    if self.talking_wP==True:\n",
        "      print(\"talking whit Professors - \",self.talking_wP)\n",
        "    if self.check_classrrom==True:\n",
        "      print(\"check classrrom - \",self.check_classrrom)\n",
        "  \n",
        "  def show_task_no_make(self):\n",
        "    if self.talking_wP!=True:\n",
        "      print(\"talking whit Professors - \",self.talking_wP)\n",
        "    if self.check_classrrom!=True:\n",
        "      print(\"check classrrom - \",self.check_classrrom)\n"
      ],
      "execution_count": 0,
      "outputs": []
    },
    {
      "cell_type": "code",
      "metadata": {
        "id": "WvWAKh7OUtje",
        "colab_type": "code",
        "colab": {}
      },
      "source": [
        "laro=Chief(\"Datos\",100,\"1809060\",\"Laroc\",\"kCola\",\"H\",True,False)"
      ],
      "execution_count": 0,
      "outputs": []
    },
    {
      "cell_type": "code",
      "metadata": {
        "id": "vcNBOGlVVUOg",
        "colab_type": "code",
        "outputId": "50551e89-4364-425e-aded-602098732eff",
        "colab": {
          "base_uri": "https://localhost:8080/",
          "height": 434
        }
      },
      "source": [
        "laro.show_data()\n",
        "print(\"-\"*80)\n",
        "laro.nw_grade(99)\n",
        "print(\"-\"*80)\n",
        "laro.show_task_make()\n",
        "print(\"-\"*80)\n",
        "laro.show_history()\n",
        "print(\"-\"*80)\n",
        "laro.nw_grade(99)\n",
        "print(\"-\"*80)\n",
        "laro.show_task_no_make()\n",
        "print(\"-\"*80)\n",
        "laro.show_history()"
      ],
      "execution_count": 0,
      "outputs": [
        {
          "output_type": "stream",
          "text": [
            "Name:  Laroc kCola\n",
            "score  1  is  100\n",
            "score  2  is  99\n",
            "score  3  is  99\n",
            "score  4  is  99\n",
            "--------------------------------------------------------------------------------\n",
            "--------------------------------------------------------------------------------\n",
            "check classrrom -  True\n",
            "--------------------------------------------------------------------------------\n",
            "score  1  is  100\n",
            "score  2  is  99\n",
            "score  3  is  99\n",
            "score  4  is  99\n",
            "score  5  is  99\n",
            "--------------------------------------------------------------------------------\n",
            "--------------------------------------------------------------------------------\n",
            "talking whit Professors -  False\n",
            "--------------------------------------------------------------------------------\n",
            "score  1  is  100\n",
            "score  2  is  99\n",
            "score  3  is  99\n",
            "score  4  is  99\n",
            "score  5  is  99\n",
            "score  6  is  99\n"
          ],
          "name": "stdout"
        }
      ]
    },
    {
      "cell_type": "code",
      "metadata": {
        "id": "MB957HXRVWfK",
        "colab_type": "code",
        "outputId": "1950b7c2-1a7c-4051-c40d-210f70a3e07f",
        "colab": {
          "base_uri": "https://localhost:8080/",
          "height": 104
        }
      },
      "source": [
        "print(\"Class Chief\")\n",
        "for main in Jiff.__mro__:\n",
        "  print(main)"
      ],
      "execution_count": 0,
      "outputs": [
        {
          "output_type": "stream",
          "text": [
            "Class Jiff\n",
            "<class '__main__.Jiff'>\n",
            "<class '__main__.Student'>\n",
            "<class '__main__.Person'>\n",
            "<class 'object'>\n"
          ],
          "name": "stdout"
        }
      ]
    },
    {
      "cell_type": "markdown",
      "metadata": {
        "id": "Vp5mbBOMWLf-",
        "colab_type": "text"
      },
      "source": [
        "### Polymorphism"
      ]
    },
    {
      "cell_type": "code",
      "metadata": {
        "id": "itU-QEPBWKLe",
        "colab_type": "code",
        "outputId": "d41d7434-2847-43a2-d52a-9f3a3e1140b4",
        "colab": {
          "base_uri": "https://localhost:8080/",
          "height": 173
        }
      },
      "source": [
        "laro.show_data()\n",
        "print(\"-\"*80)\n",
        "Daniel.show_data()"
      ],
      "execution_count": 0,
      "outputs": [
        {
          "output_type": "stream",
          "text": [
            "Name:  Laroc kCola\n",
            "score  1  is  100\n",
            "score  2  is  99\n",
            "score  3  is  99\n",
            "score  4  is  99\n",
            "score  5  is  99\n",
            "score  6  is  99\n",
            "--------------------------------------------------------------------------------\n",
            "Daniel Cuevas\n"
          ],
          "name": "stdout"
        }
      ]
    },
    {
      "cell_type": "code",
      "metadata": {
        "id": "-mXC1MU3cCty",
        "colab_type": "code",
        "colab": {}
      },
      "source": [
        ""
      ],
      "execution_count": 0,
      "outputs": []
    }
  ]
}